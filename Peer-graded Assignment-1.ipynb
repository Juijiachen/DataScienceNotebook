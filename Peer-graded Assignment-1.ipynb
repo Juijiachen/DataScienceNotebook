{
  "metadata": {
    "kernelspec": {
      "name": "python",
      "display_name": "Python (Pyodide)",
      "language": "python"
    },
    "language_info": {
      "codemirror_mode": {
        "name": "python",
        "version": 3
      },
      "file_extension": ".py",
      "mimetype": "text/x-python",
      "name": "python",
      "nbconvert_exporter": "python",
      "pygments_lexer": "ipython3",
      "version": "3.8"
    }
  },
  "nbformat_minor": 4,
  "nbformat": 4,
  "cells": [
    {
      "cell_type": "markdown",
      "source": "(Exercise 2 - Create a markdown cell with the title of the notebook.)\n# Data Science Tools and Ecosystem",
      "metadata": {}
    },
    {
      "cell_type": "markdown",
      "source": "(Exercise 3 - Create a markdown cell for an introduction.)\n# Introduction: \nThis notebook provides an overview of various tools and libraries used in data science, along with examples of arithmetic expressions and basic operations.\n",
      "metadata": {}
    },
    {
      "cell_type": "markdown",
      "source": "(Exercise 4 - Create a markdown cell to list data science languages.)\n# Data Science Languages\nSome of the popular languages that data scientists use are:\n1. Python\n2. R\n3. SQL\n4. Julia\n5. Java",
      "metadata": {}
    },
    {
      "cell_type": "markdown",
      "source": "(Exercise 5 - Create a markdown cell to list data science libraries.)\n# Data Science Libraries\nSome of the commonly used libraries used by Data Scientists include:\n1. Pandas\n2. NumPy\n3. Matplotlib\n4. Scikit-learn\n5. TensorFlow\n6. Keras",
      "metadata": {}
    },
    {
      "cell_type": "markdown",
      "source": "(Exercise 6 - Create a markdown cell with a table of Data Science tools.)\n# Data Science Tools\n| Tool           | Description                           |\n|----------------|---------------------------------------|\n| Jupyter        | Notebook environment                  |\n| RStudio        | IDE for R                              |\n| Apache Spark   | Cluster computing framework            |\n| TensorFlow     | Deep learning framework                |\n| Apache Hadoop  | Framework for distributed storage and processing |",
      "metadata": {}
    },
    {
      "cell_type": "markdown",
      "source": "(Exercise 7 - Create a markdown cell introducing arithmetic expression examples.)\n# Arithmetic Expression Examples\nBelow are a few examples of arithmetic expressions:\n",
      "metadata": {}
    },
    {
      "cell_type": "markdown",
      "source": "(Exercise 8 - Create a code cell to multiply and add numbers.)\n# This is a simple arithmetic operation to multiply and add numbers",
      "metadata": {}
    },
    {
      "cell_type": "code",
      "source": "a = 5\nb = 4\nresult = a * b + a\nresult",
      "metadata": {
        "trusted": true
      },
      "outputs": [
        {
          "execution_count": 1,
          "output_type": "execute_result",
          "data": {
            "text/plain": "25"
          },
          "metadata": {}
        }
      ],
      "execution_count": 1
    },
    {
      "cell_type": "markdown",
      "source": "(Exercise 9 - Create a code cell to convert minutes to hours.)\n# This code converts minutes to hours",
      "metadata": {}
    },
    {
      "cell_type": "code",
      "source": "minutes = 150\nhours = minutes / 60\nhours",
      "metadata": {
        "trusted": true
      },
      "outputs": [
        {
          "execution_count": 2,
          "output_type": "execute_result",
          "data": {
            "text/plain": "2.5"
          },
          "metadata": {}
        }
      ],
      "execution_count": 2
    },
    {
      "cell_type": "markdown",
      "source": "(Exercise 10 - Insert a markdown cell to list Objectives.)\n# Objectives\n- List popular languages for Data Science\n- Introduce commonly used libraries in Data Science\n- Showcase tools for Data Science\n- Provide examples of basic arithmetic operations\n- Convert time units from minutes to hours",
      "metadata": {}
    },
    {
      "cell_type": "markdown",
      "source": "(Exercise 11 - Create a markdown cell to indicate the Author’s name.)\n# Author\nJui-Jia Chen",
      "metadata": {}
    }
  ]
}